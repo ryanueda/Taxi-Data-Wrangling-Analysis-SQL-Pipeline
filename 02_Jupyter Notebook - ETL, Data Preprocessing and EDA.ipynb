{
 "cells": [
  {
   "cell_type": "markdown",
   "id": "859f665c",
   "metadata": {},
   "source": [
    "## SQL - PYTHON PIPELINE"
   ]
  },
  {
   "cell_type": "code",
   "execution_count": 2,
   "id": "5e77dfb0",
   "metadata": {},
   "outputs": [],
   "source": [
    "import pandas as pd\n",
    "import numpy as np\n",
    "import seaborn as sns\n",
    "from sqlalchemy import create_engine\n",
    "import matplotlib.pyplot as plt\n",
    "from mpl_toolkits.mplot3d import Axes3D\n",
    "from datetime import date\n",
    "import datetime\n",
    "import time"
   ]
  },
  {
   "cell_type": "code",
   "execution_count": 3,
   "id": "349b8549",
   "metadata": {},
   "outputs": [],
   "source": [
    "## change server to own server name\n",
    "server = 'DESKTOP-9ASSRIE\\SQLEXPRESS'\n",
    "database = 'PAI_CA1'\n",
    "packages = ['sqlalchemy', 'pyodbc']\n",
    "engine = create_engine('mssql+pyodbc://{}/{}?driver=SQL Server'.format(server, database))"
   ]
  },
  {
   "cell_type": "code",
   "execution_count": 4,
   "id": "518f5fe5",
   "metadata": {},
   "outputs": [
    {
     "name": "stdout",
     "output_type": "stream",
     "text": [
      "Wall time: 33.8 s\n"
     ]
    }
   ],
   "source": [
    "%%time\n",
    "\n",
    "## establish connection to database\n",
    "connection = engine.connect()\n",
    "\n",
    "## obtain Sensor Data and store in DataFrames\n",
    "cursor = connection.execute('SELECT * FROM Sensor')\n",
    "sensor = pd.DataFrame(data=cursor.fetchall(), columns=cursor.keys())\n",
    "\n",
    "## obtain Driver Data\n",
    "cursor = connection.execute('SELECT * FROM Driver')\n",
    "driver = pd.DataFrame(data=cursor.fetchall(), columns=cursor.keys())\n",
    "\n",
    "## obtain Safety Data\n",
    "cursor = connection.execute('SELECT * FROM Safety')\n",
    "safety = pd.DataFrame(data=cursor.fetchall(), columns=cursor.keys())\n",
    "\n",
    "## close connection to database\n",
    "connection.close()"
   ]
  },
  {
   "cell_type": "markdown",
   "id": "fc2c7380",
   "metadata": {},
   "source": [
    "## Exploratory Data Analysis"
   ]
  },
  {
   "cell_type": "markdown",
   "id": "37b7e669",
   "metadata": {},
   "source": [
    "### Sensor"
   ]
  },
  {
   "cell_type": "code",
   "execution_count": 4,
   "id": "9f493bb9",
   "metadata": {},
   "outputs": [
    {
     "name": "stdout",
     "output_type": "stream",
     "text": [
      "accuracy: 0\n",
      "second: 0\n",
      "speed: 109724\n"
     ]
    }
   ],
   "source": [
    "accuracyNeg = len(sensor[sensor['accuracy'] < 0])\n",
    "secondNeg = len(sensor[sensor['second'] < 0])\n",
    "speedNeg = len(sensor[sensor['speed'] < 0])\n",
    "\n",
    "print('accuracy: ' + str(accuracyNeg))\n",
    "print('second: ' + str(secondNeg))\n",
    "print('speed: ' + str(speedNeg))"
   ]
  },
  {
   "cell_type": "markdown",
   "id": "a0528133",
   "metadata": {},
   "source": [
    "This shows that there are negative values in the 'speed' column, althought there should'nt be"
   ]
  },
  {
   "cell_type": "code",
   "execution_count": 5,
   "id": "87ee77b6",
   "metadata": {},
   "outputs": [
    {
     "data": {
      "text/plain": [
       "bookingID              0\n",
       "accuracy          118025\n",
       "bearing           119403\n",
       "acceleration_x    105117\n",
       "acceleration_y    123103\n",
       "acceleration_z     99136\n",
       "gyro_x            133258\n",
       "gyro_y            139712\n",
       "gyro_z             65488\n",
       "second                 0\n",
       "speed             123577\n",
       "dtype: int64"
      ]
     },
     "execution_count": 5,
     "metadata": {},
     "output_type": "execute_result"
    }
   ],
   "source": [
    "sensor.isnull().sum()"
   ]
  },
  {
   "cell_type": "markdown",
   "id": "2ff8ad73",
   "metadata": {},
   "source": [
    "A quick check shows that there are quite a number of null values within the sensor data"
   ]
  },
  {
   "cell_type": "code",
   "execution_count": 6,
   "id": "1bc5ad7f",
   "metadata": {},
   "outputs": [
    {
     "data": {
      "text/plain": [
       "<AxesSubplot:ylabel='Frequency'>"
      ]
     },
     "execution_count": 6,
     "metadata": {},
     "output_type": "execute_result"
    },
    {
     "data": {
      "image/png": "[encoded data removed]",
      "text/plain": [
       "<Figure size 432x288 with 1 Axes>"
      ]
     },
     "metadata": {
      "needs_background": "light"
     },
     "output_type": "display_data"
    }
   ],
   "source": [
    "## histogram of accuracy\n",
    "sensor['accuracy'].plot(kind='hist')"
   ]
  },
  {
   "cell_type": "code",
   "execution_count": 7,
   "id": "c0bd0500",
   "metadata": {},
   "outputs": [
    {
     "data": {
      "text/plain": [
       "<AxesSubplot:ylabel='Frequency'>"
      ]
     },
     "execution_count": 7,
     "metadata": {},
     "output_type": "execute_result"
    },
    {
     "data": {
      "image/png": "[encoded data removed]",
      "text/plain": [
       "<Figure size 432x288 with 1 Axes>"
      ]
     },
     "metadata": {
      "needs_background": "light"
     },
     "output_type": "display_data"
    }
   ],
   "source": [
    "## histogram of accuracy > 2000\n",
    "sensor[sensor['accuracy'] > 2000]['accuracy'].plot(kind='hist')"
   ]
  },
  {
   "cell_type": "markdown",
   "id": "f00a9ebc",
   "metadata": {},
   "source": [
    "The histogram of accuracy greater than 2000 shows that irregular values are existing within the accuracy column of the sensor data"
   ]
  },
  {
   "cell_type": "code",
   "execution_count": 8,
   "id": "1bb481b7",
   "metadata": {},
   "outputs": [
    {
     "data": {
      "text/plain": [
       "<AxesSubplot:ylabel='Frequency'>"
      ]
     },
     "execution_count": 8,
     "metadata": {},
     "output_type": "execute_result"
    },
    {
     "data": {
      "image/png": "[encoded data removed]",
      "text/plain": [
       "<Figure size 432x288 with 1 Axes>"
      ]
     },
     "metadata": {
      "needs_background": "light"
     },
     "output_type": "display_data"
    }
   ],
   "source": [
    "## histogram of speed\n",
    "sensor['speed'].plot(kind='hist')"
   ]
  },
  {
   "cell_type": "code",
   "execution_count": 9,
   "id": "69d9349a",
   "metadata": {},
   "outputs": [
    {
     "data": {
      "text/plain": [
       "<AxesSubplot:ylabel='Frequency'>"
      ]
     },
     "execution_count": 9,
     "metadata": {},
     "output_type": "execute_result"
    },
    {
     "data": {
      "image/png": "[encoded data removed]",
      "text/plain": [
       "<Figure size 432x288 with 1 Axes>"
      ]
     },
     "metadata": {
      "needs_background": "light"
     },
     "output_type": "display_data"
    }
   ],
   "source": [
    "## check 'second' column\n",
    "\n",
    "filtered = sensor[sensor['second'] <= 3000]\n",
    "filtered['second'].plot(kind='hist')"
   ]
  },
  {
   "cell_type": "markdown",
   "id": "77b44f35",
   "metadata": {},
   "source": [
    "Plotting the histogram of seconds less than or equal to 3000 shows that past 3000, lies irregular and unusual data"
   ]
  },
  {
   "cell_type": "code",
   "execution_count": 10,
   "id": "bc58d21d",
   "metadata": {},
   "outputs": [
    {
     "name": "stderr",
     "output_type": "stream",
     "text": [
      "C:\\Users\\rutsm\\anaconda3\\lib\\site-packages\\seaborn\\_decorators.py:36: FutureWarning: Pass the following variable as a keyword arg: x. From version 0.12, the only valid positional argument will be `data`, and passing other arguments without an explicit keyword will result in an error or misinterpretation.\n",
      "  warnings.warn(\n"
     ]
    },
    {
     "data": {
      "text/plain": [
       "<AxesSubplot:xlabel='null', ylabel='count'>"
      ]
     },
     "execution_count": 10,
     "metadata": {},
     "output_type": "execute_result"
    },
    {
     "data": {
      "image/png": "[encoded data removed]",
      "text/plain": [
       "<Figure size 432x288 with 1 Axes>"
      ]
     },
     "metadata": {
      "needs_background": "light"
     },
     "output_type": "display_data"
    }
   ],
   "source": [
    "## number of nulls per row\n",
    "sensorNull = sensor.isnull().sum(axis=1)\n",
    "sensor['null'] = sensorNull\n",
    "sns.countplot(sensor['null'])"
   ]
  },
  {
   "cell_type": "markdown",
   "id": "aad12f23",
   "metadata": {},
   "source": [
    "The null count bar plot shows the distribution of number of null columns per row"
   ]
  },
  {
   "cell_type": "code",
   "execution_count": 11,
   "id": "1c96a186",
   "metadata": {},
   "outputs": [],
   "source": [
    "sensor['bookingID'] = sensor['bookingID'].astype('float')"
   ]
  },
  {
   "cell_type": "code",
   "execution_count": 12,
   "id": "a402c2bc",
   "metadata": {},
   "outputs": [
    {
     "data": {
      "text/plain": [
       "<AxesSubplot:>"
      ]
     },
     "execution_count": 12,
     "metadata": {},
     "output_type": "execute_result"
    },
    {
     "data": {
      "image/png": "[encoded data removed]",
      "text/plain": [
       "<Figure size 432x288 with 2 Axes>"
      ]
     },
     "metadata": {
      "needs_background": "light"
     },
     "output_type": "display_data"
    }
   ],
   "source": [
    "## correlation heatmap of sensor data\n",
    "corrSensor = sensor.drop(columns=['bookingID', 'null'])\n",
    "corr = corrSensor.corr()\n",
    "sns.heatmap(corr)"
   ]
  },
  {
   "cell_type": "markdown",
   "id": "78490db6",
   "metadata": {},
   "source": [
    "The correlation heatmap shows that the variables within the sensor data does not have a strong correlation with one another"
   ]
  },
  {
   "cell_type": "code",
   "execution_count": 13,
   "id": "c8c7024a",
   "metadata": {},
   "outputs": [
    {
     "name": "stdout",
     "output_type": "stream",
     "text": [
      "<class 'pandas.core.frame.DataFrame'>\n",
      "RangeIndex: 7469656 entries, 0 to 7469655\n",
      "Data columns (total 12 columns):\n",
      " #   Column          Dtype  \n",
      "---  ------          -----  \n",
      " 0   bookingID       float64\n",
      " 1   accuracy        float64\n",
      " 2   bearing         float64\n",
      " 3   acceleration_x  float64\n",
      " 4   acceleration_y  float64\n",
      " 5   acceleration_z  float64\n",
      " 6   gyro_x          float64\n",
      " 7   gyro_y          float64\n",
      " 8   gyro_z          float64\n",
      " 9   second          float64\n",
      " 10  speed           float64\n",
      " 11  null            int64  \n",
      "dtypes: float64(11), int64(1)\n",
      "memory usage: 683.9 MB\n"
     ]
    }
   ],
   "source": [
    "sensor.info()"
   ]
  },
  {
   "cell_type": "code",
   "execution_count": 14,
   "id": "39da62da",
   "metadata": {},
   "outputs": [
    {
     "data": {
      "image/png": "[encoded data removed]",
      "text/plain": [
       "<Figure size 432x288 with 1 Axes>"
      ]
     },
     "metadata": {
      "needs_background": "light"
     },
     "output_type": "display_data"
    }
   ],
   "source": [
    "## scatterplot of accuracy and speed\n",
    "plt.scatter(x=sensor['accuracy'], y=sensor['speed'])\n",
    "plt.show()"
   ]
  },
  {
   "cell_type": "code",
   "execution_count": 15,
   "id": "605ab499",
   "metadata": {},
   "outputs": [
    {
     "data": {
      "image/png": "[encoded data removed]",
      "text/plain": [
       "<Figure size 432x288 with 1 Axes>"
      ]
     },
     "metadata": {
      "needs_background": "light"
     },
     "output_type": "display_data"
    }
   ],
   "source": [
    "## 3d scatter of acceleration x, y, z\n",
    "fig = plt.figure()\n",
    "ax = fig.add_subplot(111, projection='3d')\n",
    "ax.scatter(sensor['acceleration_x'], sensor['acceleration_y'], sensor['acceleration_z'])\n",
    "\n",
    "ax.set_xlabel('acceleration_x')\n",
    "ax.set_ylabel('acceleration_y')\n",
    "ax.set_zlabel('acceleration_z')\n",
    "\n",
    "plt.show()"
   ]
  },
  {
   "cell_type": "code",
   "execution_count": 16,
   "id": "70a08017",
   "metadata": {},
   "outputs": [
    {
     "data": {
      "image/png": "[encoded data removed]",
      "text/plain": [
       "<Figure size 432x288 with 1 Axes>"
      ]
     },
     "metadata": {
      "needs_background": "light"
     },
     "output_type": "display_data"
    }
   ],
   "source": [
    "## 3d scatter of gyro x, y, z\n",
    "fig = plt.figure()\n",
    "ax = fig.add_subplot(111, projection='3d')\n",
    "ax.scatter(sensor['gyro_x'], sensor['gyro_y'], sensor['gyro_z'])\n",
    "\n",
    "ax.set_xlabel('gyro_x')\n",
    "ax.set_ylabel('gyro_y')\n",
    "ax.set_zlabel('gyro_z')\n",
    "\n",
    "plt.show()"
   ]
  },
  {
   "cell_type": "markdown",
   "id": "0cb2d112",
   "metadata": {},
   "source": [
    "### Driver"
   ]
  },
  {
   "cell_type": "code",
   "execution_count": 5,
   "id": "72b82f27",
   "metadata": {},
   "outputs": [
    {
     "data": {
      "text/plain": [
       "driverID         0\n",
       "name             0\n",
       "date_of_birth    0\n",
       "gender           0\n",
       "car_model        0\n",
       "car_make_year    0\n",
       "rating           0\n",
       "dtype: int64"
      ]
     },
     "execution_count": 5,
     "metadata": {},
     "output_type": "execute_result"
    }
   ],
   "source": [
    "driver.isnull().sum()"
   ]
  },
  {
   "cell_type": "markdown",
   "id": "3606145c",
   "metadata": {},
   "source": [
    "A quick check shows that there are no null values within the driver data"
   ]
  },
  {
   "cell_type": "code",
   "execution_count": 17,
   "id": "8036df42",
   "metadata": {},
   "outputs": [
    {
     "data": {
      "image/png": "[encoded data removed]",
      "text/plain": [
       "<Figure size 432x288 with 1 Axes>"
      ]
     },
     "metadata": {},
     "output_type": "display_data"
    }
   ],
   "source": [
    "## pie chart of distribution of cars\n",
    "carCounts = driver['car_model'].value_counts()\n",
    "carNames = driver['car_model'].unique()\n",
    "plt.pie(carCounts, labels=carNames, autopct='%1.1f%%')\n",
    "plt.show()"
   ]
  },
  {
   "cell_type": "markdown",
   "id": "4aba9317",
   "metadata": {},
   "source": [
    "The above pie chart shows the distribution in percentages of the car brands and their counts"
   ]
  },
  {
   "cell_type": "code",
   "execution_count": 18,
   "id": "25f05db7",
   "metadata": {},
   "outputs": [
    {
     "data": {
      "image/png": "[encoded data removed]",
      "text/plain": [
       "<Figure size 432x288 with 1 Axes>"
      ]
     },
     "metadata": {
      "needs_background": "light"
     },
     "output_type": "display_data"
    }
   ],
   "source": [
    "## bar plot of cars year of making\n",
    "carAge = driver['car_make_year'].value_counts()\n",
    "ageNums = driver['car_make_year'].unique()\n",
    "xaxis = np.arange(2004, 2014)\n",
    "plt.bar(ageNums, carAge)\n",
    "plt.xticks(xaxis)\n",
    "plt.show()"
   ]
  },
  {
   "cell_type": "markdown",
   "id": "d398e813",
   "metadata": {},
   "source": [
    "The bar chart above shows the year the car was mode and the counts of number of cars within that year"
   ]
  },
  {
   "cell_type": "code",
   "execution_count": 19,
   "id": "9a5e365a",
   "metadata": {},
   "outputs": [
    {
     "data": {
      "image/png": "[encoded data removed]",
      "text/plain": [
       "<Figure size 432x288 with 1 Axes>"
      ]
     },
     "metadata": {
      "needs_background": "light"
     },
     "output_type": "display_data"
    }
   ],
   "source": [
    "## bar plot of ages of drivers relative to 2022\n",
    "dates = driver['date_of_birth']\n",
    "ages = []\n",
    "\n",
    "def convertdate(dstring):\n",
    "    return time.strptime(dstring, '%Y-%m-%d')\n",
    "\n",
    "for date in range(len(dates)):\n",
    "    age = convertdate(dates[date])[0]\n",
    "    age = 2022 - age\n",
    "    ages.append(age)\n",
    "\n",
    "uniqueAges = list(set(ages))\n",
    "ages = pd.Series(ages).value_counts()\n",
    "plt.bar(x=uniqueAges, height=ages)\n",
    "plt.xticks(uniqueAges)\n",
    "plt.show()"
   ]
  },
  {
   "cell_type": "markdown",
   "id": "34784aa4",
   "metadata": {},
   "source": [
    "This bar chart shows the ages of the drivers and their counts"
   ]
  },
  {
   "cell_type": "code",
   "execution_count": 20,
   "id": "114c4f85",
   "metadata": {},
   "outputs": [
    {
     "data": {
      "image/png": "[encoded data removed]",
      "text/plain": [
       "<Figure size 432x288 with 1 Axes>"
      ]
     },
     "metadata": {},
     "output_type": "display_data"
    }
   ],
   "source": [
    "gender = driver['gender']\n",
    "genderCounts = gender.value_counts()\n",
    "genders = gender.unique()\n",
    "plt.pie(genderCounts, labels=genders, autopct='%1.1f%%')\n",
    "plt.show()"
   ]
  },
  {
   "cell_type": "code",
   "execution_count": 21,
   "id": "5e9bc76d",
   "metadata": {},
   "outputs": [
    {
     "data": {
      "image/png": "[encoded data removed]",
      "text/plain": [
       "<Figure size 432x288 with 1 Axes>"
      ]
     },
     "metadata": {
      "needs_background": "light"
     },
     "output_type": "display_data"
    }
   ],
   "source": [
    "rating = driver['rating']\n",
    "ratingCounts = rating.value_counts()\n",
    "ratings = rating.unique()\n",
    "plt.bar(ratings, height=ratingCounts, width=0.3)\n",
    "plt.xticks(ratings)\n",
    "plt.show()"
   ]
  },
  {
   "cell_type": "markdown",
   "id": "1dac0dac",
   "metadata": {},
   "source": [
    "This bar chart shows unique rating counts and how many of each rating exists"
   ]
  },
  {
   "cell_type": "markdown",
   "id": "506d44d5",
   "metadata": {},
   "source": [
    "### Safety"
   ]
  },
  {
   "cell_type": "code",
   "execution_count": 22,
   "id": "0439be3c",
   "metadata": {},
   "outputs": [
    {
     "data": {
      "image/png": "[encoded data removed]",
      "text/plain": [
       "<Figure size 432x288 with 1 Axes>"
      ]
     },
     "metadata": {},
     "output_type": "display_data"
    }
   ],
   "source": [
    "## 0 = normal\n",
    "## 1 = dangerous\n",
    "safe = safety['label'].value_counts()\n",
    "labels = ['0', '1']\n",
    "plt.pie(safe, labels=labels, autopct='%1.1f%%')\n",
    "plt.show()"
   ]
  },
  {
   "cell_type": "markdown",
   "id": "1896d89a",
   "metadata": {},
   "source": [
    "## Data Preprocessing & Wrangling"
   ]
  },
  {
   "cell_type": "markdown",
   "id": "5d81de4d",
   "metadata": {},
   "source": [
    "This section handles the data preprocessing and wrangling of the sensor data to ensure NULL and nonsensical values are cleansed"
   ]
  },
  {
   "cell_type": "code",
   "execution_count": 23,
   "id": "3b754baf",
   "metadata": {},
   "outputs": [
    {
     "name": "stdout",
     "output_type": "stream",
     "text": [
      "Number of NULL in Sensor: 1026819\n",
      "Number of NULL in Driver: 0\n",
      "Number of NULL in Safety: 0\n"
     ]
    }
   ],
   "source": [
    "## check for total number of null values in sensor, driver and safety dataframes\n",
    "print('Number of NULL in Sensor: ' + str(sensor.isnull().sum().sum()))\n",
    "print('Number of NULL in Driver: ' + str(driver.isnull().sum().sum()))\n",
    "print('Number of NULL in Safety: ' + str(safety.isnull().sum().sum()))"
   ]
  },
  {
   "cell_type": "code",
   "execution_count": 24,
   "id": "537420df",
   "metadata": {},
   "outputs": [
    {
     "data": {
      "text/plain": [
       "bookingID              0\n",
       "accuracy          118025\n",
       "bearing           119403\n",
       "acceleration_x    105117\n",
       "acceleration_y    123103\n",
       "acceleration_z     99136\n",
       "gyro_x            133258\n",
       "gyro_y            139712\n",
       "gyro_z             65488\n",
       "second                 0\n",
       "speed             123577\n",
       "null                   0\n",
       "dtype: int64"
      ]
     },
     "execution_count": 24,
     "metadata": {},
     "output_type": "execute_result"
    }
   ],
   "source": [
    "## check number of nulls in each column of Sensor\n",
    "sensor.isnull().sum()"
   ]
  },
  {
   "cell_type": "markdown",
   "id": "5c28fb77",
   "metadata": {},
   "source": [
    "## Drop Rows With > 2000 Accuracy"
   ]
  },
  {
   "cell_type": "code",
   "execution_count": 25,
   "id": "70a8a733",
   "metadata": {},
   "outputs": [],
   "source": [
    "test = sensor[sensor['accuracy'] > 2000]\n",
    "dropIndex = test.index\n",
    "sensor = sensor.drop(index=dropIndex)"
   ]
  },
  {
   "cell_type": "markdown",
   "id": "d9724ec6",
   "metadata": {},
   "source": [
    "## Drop Rows with Negative Speed"
   ]
  },
  {
   "cell_type": "code",
   "execution_count": 26,
   "id": "c5d558af",
   "metadata": {},
   "outputs": [],
   "source": [
    "sensor = sensor.drop(sensor[sensor['speed'] < 0].index)"
   ]
  },
  {
   "cell_type": "markdown",
   "id": "0574fc0d",
   "metadata": {},
   "source": [
    "## Drop Rows With 4/5 NULL Columns"
   ]
  },
  {
   "cell_type": "code",
   "execution_count": 27,
   "id": "96a64ffa",
   "metadata": {},
   "outputs": [],
   "source": [
    "sensor.drop(sensor[sensor['null'] >= 4].index, inplace=True)"
   ]
  },
  {
   "cell_type": "code",
   "execution_count": 28,
   "id": "3201c753",
   "metadata": {},
   "outputs": [
    {
     "data": {
      "text/html": [
       "<div>\n",
       "<style scoped>\n",
       "    .dataframe tbody tr th:only-of-type {\n",
       "        vertical-align: middle;\n",
       "    }\n",
       "\n",
       "    .dataframe tbody tr th {\n",
       "        vertical-align: top;\n",
       "    }\n",
       "\n",
       "    .dataframe thead th {\n",
       "        text-align: right;\n",
       "    }\n",
       "</style>\n",
       "<table border=\"1\" class=\"dataframe\">\n",
       "  <thead>\n",
       "    <tr style=\"text-align: right;\">\n",
       "      <th></th>\n",
       "      <th>bookingID</th>\n",
       "      <th>accuracy</th>\n",
       "      <th>bearing</th>\n",
       "      <th>acceleration_x</th>\n",
       "      <th>acceleration_y</th>\n",
       "      <th>acceleration_z</th>\n",
       "      <th>gyro_x</th>\n",
       "      <th>gyro_y</th>\n",
       "      <th>gyro_z</th>\n",
       "      <th>second</th>\n",
       "      <th>speed</th>\n",
       "      <th>null</th>\n",
       "    </tr>\n",
       "  </thead>\n",
       "  <tbody>\n",
       "  </tbody>\n",
       "</table>\n",
       "</div>"
      ],
      "text/plain": [
       "Empty DataFrame\n",
       "Columns: [bookingID, accuracy, bearing, acceleration_x, acceleration_y, acceleration_z, gyro_x, gyro_y, gyro_z, second, speed, null]\n",
       "Index: []"
      ]
     },
     "execution_count": 28,
     "metadata": {},
     "output_type": "execute_result"
    }
   ],
   "source": [
    "sensor[sensor['null'] >=4]"
   ]
  },
  {
   "cell_type": "markdown",
   "id": "5ee69826",
   "metadata": {},
   "source": [
    "## Impute Rows With 1-3 NULL Columns (Median)"
   ]
  },
  {
   "cell_type": "code",
   "execution_count": 29,
   "id": "16fe7428",
   "metadata": {},
   "outputs": [],
   "source": [
    "## impute rows with 1-3 NULL columns with the median of the other values within the booking id group\n",
    "for i in range(1, len(sensor.keys())-1):\n",
    "    sensor[sensor.keys()[i]] = sensor[sensor.keys()[i]].fillna(sensor.groupby('bookingID')[sensor.keys()[i]].transform('median'))"
   ]
  },
  {
   "cell_type": "code",
   "execution_count": 30,
   "id": "14e2f63b",
   "metadata": {},
   "outputs": [
    {
     "data": {
      "text/plain": [
       "bookingID           0\n",
       "accuracy            0\n",
       "bearing             0\n",
       "acceleration_x      0\n",
       "acceleration_y      0\n",
       "acceleration_z      0\n",
       "gyro_x              0\n",
       "gyro_y              0\n",
       "gyro_z              1\n",
       "second              0\n",
       "speed             137\n",
       "null                0\n",
       "dtype: int64"
      ]
     },
     "execution_count": 30,
     "metadata": {},
     "output_type": "execute_result"
    }
   ],
   "source": [
    "sensor.isnull().sum()"
   ]
  },
  {
   "cell_type": "markdown",
   "id": "b8c68b46",
   "metadata": {},
   "source": [
    "## Impute 'second' Column"
   ]
  },
  {
   "cell_type": "code",
   "execution_count": 31,
   "id": "4138339e",
   "metadata": {},
   "outputs": [],
   "source": [
    "irregular = sensor[sensor['second'] > 3000]\n",
    "dropIndex = irregular.index\n",
    "sensor = sensor.drop(index=dropIndex)"
   ]
  },
  {
   "cell_type": "markdown",
   "id": "16261fb2",
   "metadata": {},
   "source": [
    "## Remove 'null' Column"
   ]
  },
  {
   "cell_type": "code",
   "execution_count": 32,
   "id": "fea131b6",
   "metadata": {},
   "outputs": [],
   "source": [
    "sensor = sensor.drop(columns=['null'])"
   ]
  },
  {
   "cell_type": "code",
   "execution_count": 33,
   "id": "1137c8f2",
   "metadata": {},
   "outputs": [],
   "source": [
    "sensor['bookingID'] = sensor['bookingID'].astype('float')\n",
    "safety['bookingID'] = safety['bookingID'].astype('float')\n",
    "\n",
    "driver['driverID'] = driver['driverID'].astype('float')\n",
    "safety['driverID'] = safety['driverID'].astype('float')"
   ]
  },
  {
   "cell_type": "markdown",
   "id": "c52f2d1e",
   "metadata": {},
   "source": [
    "## Pipeline DataFrames Into New SQL Server Database"
   ]
  },
  {
   "cell_type": "code",
   "execution_count": 34,
   "id": "5bda94d5",
   "metadata": {},
   "outputs": [],
   "source": [
    "## create connection settings to sql server\n",
    "server = 'DESKTOP-9ASSRIE\\SQLEXPRESS'\n",
    "packages = ['sqlalchemy', 'pyodbc']\n",
    "connection_string = f\"DRIVER=SQL Server; SERVER={server}; Trusted_Connection=True;\""
   ]
  },
  {
   "cell_type": "code",
   "execution_count": 35,
   "id": "689758c8",
   "metadata": {},
   "outputs": [
    {
     "name": "stdout",
     "output_type": "stream",
     "text": [
      "2022-12-02 02:54:36,731 INFO sqlalchemy.engine.Engine SELECT CAST(SERVERPROPERTY('ProductVersion') AS VARCHAR)\n",
      "2022-12-02 02:54:36,731 INFO sqlalchemy.engine.Engine [raw sql] ()\n",
      "2022-12-02 02:54:36,732 INFO sqlalchemy.engine.Engine SELECT schema_name()\n",
      "2022-12-02 02:54:36,732 INFO sqlalchemy.engine.Engine [generated in 0.00031s] ()\n",
      "2022-12-02 02:54:36,734 INFO sqlalchemy.engine.Engine SELECT CAST('test max support' AS NVARCHAR(max))\n",
      "2022-12-02 02:54:36,734 INFO sqlalchemy.engine.Engine [generated in 0.00024s] ()\n",
      "2022-12-02 02:54:36,736 INFO sqlalchemy.engine.Engine SELECT [INFORMATION_SCHEMA].[TABLES].[TABLE_NAME] \n",
      "FROM [INFORMATION_SCHEMA].[TABLES] \n",
      "WHERE [INFORMATION_SCHEMA].[TABLES].[TABLE_TYPE] = CAST(? AS NVARCHAR(max)) AND [INFORMATION_SCHEMA].[TABLES].[TABLE_NAME] = CAST(? AS NVARCHAR(max)) AND [INFORMATION_SCHEMA].[TABLES].[TABLE_SCHEMA] = CAST(? AS NVARCHAR(max))\n",
      "2022-12-02 02:54:36,737 INFO sqlalchemy.engine.Engine [generated in 0.00033s] ('BASE TABLE', 'Driver', 'dbo')\n",
      "2022-12-02 02:54:36,744 INFO sqlalchemy.engine.Engine BEGIN (implicit)\n",
      "2022-12-02 02:54:36,745 INFO sqlalchemy.engine.Engine \n",
      "CREATE TABLE [Driver] (\n",
      "\t[driverID] FLOAT(53) NULL, \n",
      "\tname VARCHAR(max) NULL, \n",
      "\tdate_of_birth VARCHAR(max) NULL, \n",
      "\tgender VARCHAR(max) NULL, \n",
      "\tcar_model VARCHAR(max) NULL, \n",
      "\tcar_make_year BIGINT NULL, \n",
      "\trating FLOAT(53) NULL\n",
      ")\n",
      "\n",
      "\n",
      "2022-12-02 02:54:36,745 INFO sqlalchemy.engine.Engine [no key 0.00028s] ()\n",
      "2022-12-02 02:54:36,746 INFO sqlalchemy.engine.Engine COMMIT\n",
      "2022-12-02 02:54:36,747 INFO sqlalchemy.engine.Engine BEGIN (implicit)\n",
      "2022-12-02 02:54:36,748 INFO sqlalchemy.engine.Engine INSERT INTO [Driver] ([driverID], name, date_of_birth, gender, car_model, car_make_year, rating) VALUES (?, ?, ?, ?, ?, ?, ?)\n",
      "2022-12-02 02:54:36,749 INFO sqlalchemy.engine.Engine [generated in 0.00066s] ((1.0, 'Tressa', '1992-01-12', 'Female', 'Mazda', 2011, 4.5), (2.0, 'Virgilio', '1992-10-23', 'Male', 'Mazda', 2004, 3.5), (3.0, 'Bert', '1989-08-10', 'Male', 'Nissan', 2008, 4.5), (4.0, 'Mahmoud', '1981-08-14', 'Male', 'Toyota', 2008, 4.5), (5.0, 'Felecia', '1990-07-20', 'Female', 'Hyundai', 2010, 4.5), (6.0, 'Tyrus', '1983-10-20', 'Male', 'Ford', 2013, 4.5), (7.0, 'Haven', '1973-03-07', 'Male', 'Mercedes-Benz', 2005, 4.5), (8.0, 'Frankie', '1988-04-09', 'Male', 'Hyundai', 2009, 3.5)  ... displaying 10 of 148 total bound parameter sets ...  (147.0, 'Delila', '1982-11-08', 'Female', 'Toyota', 2011, 3.0), (148.0, 'Stanwood', '1975-02-11', 'Male', 'Honda', 2005, 3.5))\n",
      "2022-12-02 02:54:36,788 INFO sqlalchemy.engine.Engine COMMIT\n",
      "2022-12-02 02:54:36,789 INFO sqlalchemy.engine.Engine SELECT [INFORMATION_SCHEMA].[TABLES].[TABLE_NAME] \n",
      "FROM [INFORMATION_SCHEMA].[TABLES] \n",
      "WHERE [INFORMATION_SCHEMA].[TABLES].[TABLE_SCHEMA] = CAST(? AS NVARCHAR(max)) AND [INFORMATION_SCHEMA].[TABLES].[TABLE_TYPE] = CAST(? AS NVARCHAR(max)) ORDER BY [INFORMATION_SCHEMA].[TABLES].[TABLE_NAME]\n",
      "2022-12-02 02:54:36,790 INFO sqlalchemy.engine.Engine [generated in 0.00043s] ('dbo', 'BASE TABLE')\n",
      "2022-12-02 02:54:36,798 INFO sqlalchemy.engine.Engine SELECT [INFORMATION_SCHEMA].[TABLES].[TABLE_NAME] \n",
      "FROM [INFORMATION_SCHEMA].[TABLES] \n",
      "WHERE [INFORMATION_SCHEMA].[TABLES].[TABLE_TYPE] = CAST(? AS NVARCHAR(max)) AND [INFORMATION_SCHEMA].[TABLES].[TABLE_NAME] = CAST(? AS NVARCHAR(max)) AND [INFORMATION_SCHEMA].[TABLES].[TABLE_SCHEMA] = CAST(? AS NVARCHAR(max))\n",
      "2022-12-02 02:54:36,798 INFO sqlalchemy.engine.Engine [cached since 0.06177s ago] ('BASE TABLE', 'Safety', 'dbo')\n",
      "2022-12-02 02:54:36,799 INFO sqlalchemy.engine.Engine BEGIN (implicit)\n",
      "2022-12-02 02:54:36,800 INFO sqlalchemy.engine.Engine \n",
      "CREATE TABLE [Safety] (\n",
      "\t[bookingID] FLOAT(53) NULL, \n",
      "\t[driverID] FLOAT(53) NULL, \n",
      "\tlabel BIGINT NULL\n",
      ")\n",
      "\n",
      "\n",
      "2022-12-02 02:54:36,800 INFO sqlalchemy.engine.Engine [no key 0.00032s] ()\n",
      "2022-12-02 02:54:36,801 INFO sqlalchemy.engine.Engine COMMIT\n",
      "2022-12-02 02:54:36,803 INFO sqlalchemy.engine.Engine BEGIN (implicit)\n",
      "2022-12-02 02:54:36,835 INFO sqlalchemy.engine.Engine INSERT INTO [Safety] ([bookingID], [driverID], label) VALUES (?, ?, ?)\n",
      "2022-12-02 02:54:36,836 INFO sqlalchemy.engine.Engine [generated in 0.02620s] ((0.0, 48.0, 0), (1.0, 74.0, 1), (10.0, 75.0, 0), (1005022347266.0, 64.0, 1), (1005022347267.0, 49.0, 1), (1005022347268.0, 49.0, 0), (1005022347269.0, 113.0, 0), (1005022347271.0, 113.0, 0)  ... displaying 10 of 20000 total bound parameter sets ...  (996432412826.0, 87.0, 0), (996432412828.0, 24.0, 1))\n",
      "2022-12-02 02:54:38,302 INFO sqlalchemy.engine.Engine COMMIT\n",
      "2022-12-02 02:54:38,306 INFO sqlalchemy.engine.Engine SELECT [INFORMATION_SCHEMA].[TABLES].[TABLE_NAME] \n",
      "FROM [INFORMATION_SCHEMA].[TABLES] \n",
      "WHERE [INFORMATION_SCHEMA].[TABLES].[TABLE_SCHEMA] = CAST(? AS NVARCHAR(max)) AND [INFORMATION_SCHEMA].[TABLES].[TABLE_TYPE] = CAST(? AS NVARCHAR(max)) ORDER BY [INFORMATION_SCHEMA].[TABLES].[TABLE_NAME]\n",
      "2022-12-02 02:54:38,307 INFO sqlalchemy.engine.Engine [cached since 1.518s ago] ('dbo', 'BASE TABLE')\n",
      "2022-12-02 02:54:38,310 INFO sqlalchemy.engine.Engine SELECT [INFORMATION_SCHEMA].[TABLES].[TABLE_NAME] \n",
      "FROM [INFORMATION_SCHEMA].[TABLES] \n",
      "WHERE [INFORMATION_SCHEMA].[TABLES].[TABLE_TYPE] = CAST(? AS NVARCHAR(max)) AND [INFORMATION_SCHEMA].[TABLES].[TABLE_NAME] = CAST(? AS NVARCHAR(max)) AND [INFORMATION_SCHEMA].[TABLES].[TABLE_SCHEMA] = CAST(? AS NVARCHAR(max))\n",
      "2022-12-02 02:54:38,311 INFO sqlalchemy.engine.Engine [cached since 1.575s ago] ('BASE TABLE', 'Sensor', 'dbo')\n",
      "2022-12-02 02:54:38,312 INFO sqlalchemy.engine.Engine BEGIN (implicit)\n",
      "2022-12-02 02:54:38,313 INFO sqlalchemy.engine.Engine \n",
      "CREATE TABLE [Sensor] (\n",
      "\t[bookingID] FLOAT(53) NULL, \n",
      "\taccuracy FLOAT(53) NULL, \n",
      "\tbearing FLOAT(53) NULL, \n",
      "\tacceleration_x FLOAT(53) NULL, \n",
      "\tacceleration_y FLOAT(53) NULL, \n",
      "\tacceleration_z FLOAT(53) NULL, \n",
      "\tgyro_x FLOAT(53) NULL, \n",
      "\tgyro_y FLOAT(53) NULL, \n",
      "\tgyro_z FLOAT(53) NULL, \n",
      "\tsecond FLOAT(53) NULL, \n",
      "\tspeed FLOAT(53) NULL\n",
      ")\n",
      "\n",
      "\n",
      "2022-12-02 02:54:38,313 INFO sqlalchemy.engine.Engine [no key 0.00032s] ()\n",
      "2022-12-02 02:54:38,314 INFO sqlalchemy.engine.Engine COMMIT\n",
      "2022-12-02 02:54:40,599 INFO sqlalchemy.engine.Engine BEGIN (implicit)\n",
      "2022-12-02 02:55:22,172 INFO sqlalchemy.engine.Engine INSERT INTO [Sensor] ([bookingID], accuracy, bearing, acceleration_x, acceleration_y, acceleration_z, gyro_x, gyro_y, gyro_z, second, speed) VALUES (?, ?, ?, ?, ?, ?, ?, ?, ?, ?, ?)\n",
      "2022-12-02 02:55:22,172 INFO sqlalchemy.engine.Engine [generated in 34.95789s] ((0.0, 8.0, 143.2982940673828, -1.7062072753906252, -9.270791625976564, -1.2094482421875, -0.0289650726479198, -0.0326522191771345, 0.0153901416234589, 2.0, 0.2284544706344604), (0.0, 8.0, 143.2982940673828, -1.4167053222656252, -9.548031616210938, -1.8609771728515627, -0.0224131637341068, 0.0050485544784632, -0.0257525014249572, 3.0, 0.2284544706344604), (0.0, 8.0, 143.2982940673828, -0.346923828125, -9.53262939453125, -1.2046630859375, 0.0149621716362831, -0.0500333400315366, 0.0251181364533003, 9.0, 0.2284544706344604), (0.0, 8.0, 143.2982940673828, -0.6009857177734376, -9.452029418945314, -2.1575073242187504, 0.0045484128257463, -0.0117131151063865, -0.0040775659450203, 11.0, 0.2284544706344604), (0.0, 8.0, 143.2982940673828, -0.59754638671875, -9.8634033203125, -1.672711181640625, -0.0004013383762749412, 0.0003153182730653818, -0.0098299938995914, 12.0, 0.2284544706344604), (0.0, 8.0, 143.2982940673828, -1.8011627197265627, -9.610687255859375, -2.0496917724609376, 0.0774844055997464, 0.1310315203735336, -0.082646943372865, 14.0, 0.2284544706344604), (0.0, 8.0, 143.2982940673828, 0.0450103759765625, -10.07080993652344, -1.197634887695313, -0.0128513501562863, -0.1065722499739189, 0.0835388360219325, 15.0, 0.2284544706344604), (0.0, 8.0, 143.2982940673828, 0.4993011474609375, -9.877459716796876, -2.002737426757813, -0.0459962541350855, -0.0793763152381387, 0.0368448336812462, 16.0, 0.2284544706344604)  ... displaying 10 of 7352287 total bound parameter sets ...  (996432412828.0, 3.62, 3.0, -1.498816, 10.146936, -0.66800267, 0.13529322, 0.24334978, 0.09300301, 1542.0, 3.79428), (996432412828.0, 3.9, 356.0, -2.2099156, 9.962578, 1.6161355, -0.02108829, 0.009999253, -0.021839654, 1543.0, 4.8119073))\n",
      "2022-12-02 03:05:19,029 INFO sqlalchemy.engine.Engine COMMIT\n",
      "2022-12-02 03:05:20,311 INFO sqlalchemy.engine.Engine SELECT [INFORMATION_SCHEMA].[TABLES].[TABLE_NAME] \n",
      "FROM [INFORMATION_SCHEMA].[TABLES] \n",
      "WHERE [INFORMATION_SCHEMA].[TABLES].[TABLE_SCHEMA] = CAST(? AS NVARCHAR(max)) AND [INFORMATION_SCHEMA].[TABLES].[TABLE_TYPE] = CAST(? AS NVARCHAR(max)) ORDER BY [INFORMATION_SCHEMA].[TABLES].[TABLE_NAME]\n"
     ]
    },
    {
     "name": "stdout",
     "output_type": "stream",
     "text": [
      "2022-12-02 03:05:20,312 INFO sqlalchemy.engine.Engine [cached since 641s ago] ('dbo', 'BASE TABLE')\n",
      "Wall time: 10min 43s\n"
     ]
    }
   ],
   "source": [
    "%%time\n",
    "\n",
    "## connect to database in SQL Server and pipeline data into new database\n",
    "import pyodbc\n",
    "\n",
    "database_name = 'PAI_CA1_IMPUTED'\n",
    "\n",
    "connection = pyodbc.connect(connection_string, autocommit = True)\n",
    "cursor  = connection.cursor()\n",
    "\n",
    "sql_create_database = f\"CREATE DATABASE {database_name}\"\n",
    "cursor.execute(sql_create_database)\n",
    "\n",
    "set_database = f\"USE {database_name}\"\n",
    "cursor.execute(set_database)\n",
    "\n",
    "sqlengine = create_engine('mssql+pyodbc://{}/{}?driver=SQL Server'.format(server, database_name), echo=True)\n",
    "\n",
    "connection.commit()\n",
    "driver.to_sql('Driver', con=sqlengine, index = False)\n",
    "safety.to_sql('Safety', con=sqlengine, index = False)\n",
    "sensor.to_sql('Sensor', con=sqlengine, index = False)"
   ]
  }
 ],
 "metadata": {
  "kernelspec": {
   "display_name": "Python 3 (ipykernel)",
   "language": "python",
   "name": "python3"
  },
  "language_info": {
   "codemirror_mode": {
    "name": "ipython",
    "version": 3
   },
   "file_extension": ".py",
   "mimetype": "text/x-python",
   "name": "python",
   "nbconvert_exporter": "python",
   "pygments_lexer": "ipython3",
   "version": "3.9.7"
  }
 },
 "nbformat": 4,
 "nbformat_minor": 5
}
